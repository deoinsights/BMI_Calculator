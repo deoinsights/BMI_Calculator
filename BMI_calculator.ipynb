{
 "cells": [
  {
   "cell_type": "markdown",
   "id": "bc5b9efd-690a-4518-bba2-f423f19767d2",
   "metadata": {},
   "source": [
    "# Building a BMI Calculator"
   ]
  },
  {
   "cell_type": "code",
   "execution_count": null,
   "id": "2b458ad2-41b0-445b-98d2-c2b75f5b6c5c",
   "metadata": {
    "tags": []
   },
   "outputs": [],
   "source": [
    "name = input(\"enter your name: \")\n",
    "\n",
    "weight = int(input(\"enter your weight in pound: \"))\n",
    "\n",
    "height = int(input(\"enter your height in inches: \"))\n",
    "\n",
    "BMI = (weight * 703)/ (height * height)\n",
    "\n",
    "print(BMI)\n",
    "\n",
    "if BMI>0:\n",
    "    if(BMI<18.5):\n",
    "        print(name + \", you are underweight. This increases your risk of health problems. Start to eat healthy meals and exercise that can help you gain weight healthily\")\n",
    "    elif(BMI<18.5):\n",
    "        print(name + \", you are underweight.This increases your risk of health problems. Start to eat healthy meals and exercise that can help you gain weight healthily\")\n",
    "    elif(BMI<=24.9):\n",
    "        print(name + \", you are normal weight. GREAT! However, continue to lead a healty lifestyle to maintain a good weight and health\")\n",
    "    elif(BMI<=29.9):\n",
    "        print(name + \", you are overweight. Start to eat healthy, and exercise at least trice weekly\")\n",
    "    elif(BMI<=34.9):\n",
    "        print(name + \", you are obese. Start to eat healthy, and exercise up to five days a week\")\n",
    "    elif(BMI<=39.9):\n",
    "        print(name + \", you are severely obese. This is a high risk obesity, You should take healthy lifestyle seriously\")\n",
    "    elif(BMI>=40):\n",
    "        print(name + \", you are morbidly obese. This is chronic, please seek medical help as this increases the risk of life-threatening health problems\")\n",
    "    else:\n",
    "        \n",
    "        print(name + \", please enter valid inputs.\")\n",
    "        \n",
    "# follow promt through to the end by entering the required information , then click ENTER\n",
    "\n"
   ]
  },
  {
   "cell_type": "code",
   "execution_count": null,
   "id": "55772a16-3269-4004-9716-aed851133a71",
   "metadata": {},
   "outputs": [],
   "source": []
  },
  {
   "cell_type": "code",
   "execution_count": null,
   "id": "7d43797b-b68f-4a77-b853-da44185892ef",
   "metadata": {},
   "outputs": [],
   "source": []
  }
 ],
 "metadata": {
  "kernelspec": {
   "display_name": "Python 3 (ipykernel)",
   "language": "python",
   "name": "python3"
  },
  "language_info": {
   "codemirror_mode": {
    "name": "ipython",
    "version": 3
   },
   "file_extension": ".py",
   "mimetype": "text/x-python",
   "name": "python",
   "nbconvert_exporter": "python",
   "pygments_lexer": "ipython3",
   "version": "3.11.4"
  }
 },
 "nbformat": 4,
 "nbformat_minor": 5
}
